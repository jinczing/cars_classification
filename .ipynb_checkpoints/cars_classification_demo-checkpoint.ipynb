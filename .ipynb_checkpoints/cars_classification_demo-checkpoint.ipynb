{
 "cells": [
  {
   "cell_type": "code",
   "execution_count": null,
   "metadata": {
    "id": "T56QH9FaM9ZP"
   },
   "outputs": [],
   "source": [
    "!git clone --recurse-submodules https://github.com/jinczing/cars_classification.git"
   ]
  },
  {
   "cell_type": "code",
   "execution_count": null,
   "metadata": {
    "id": "zxCpfL5TNKun"
   },
   "outputs": [],
   "source": [
    "# Mount Google drive on Colab\n",
    "from google.colab import drive\n",
    "drive.mount('/content/drive')"
   ]
  },
  {
   "cell_type": "code",
   "execution_count": null,
   "metadata": {
    "id": "c0esroAEONDZ"
   },
   "outputs": [],
   "source": [
    "%cd cars_classification"
   ]
  },
  {
   "cell_type": "code",
   "execution_count": null,
   "metadata": {
    "id": "DqT5GOoJPjh7"
   },
   "outputs": [],
   "source": [
    "%mv /content/cars_classification/style-augmentation/ /content/cars_classification/style_augmentation/"
   ]
  },
  {
   "cell_type": "code",
   "execution_count": null,
   "metadata": {
    "id": "3w6iLmpmORpC"
   },
   "outputs": [],
   "source": [
    "pip install timm"
   ]
  },
  {
   "cell_type": "code",
   "execution_count": null,
   "metadata": {
    "id": "GJIRiGzGO9xK"
   },
   "outputs": [],
   "source": [
    "import torch\n",
    "import numpy as np\n",
    "import tqdm\n",
    "import csv\n",
    "import os\n",
    "from timm.models import create_model\n",
    "import torch.autograd.profiler as profiler\n",
    "from torch.utils.data import Dataset, DataLoader\n",
    "from torchvision.datasets import ImageFolder\n",
    "from torchvision.transforms import transforms\n",
    "from style_augmentation.styleaug import StyleAugmentor\n",
    "# import trainer\n",
    "# import tester\n",
    "# import importlib\n",
    "# importlib.reload(trainer)\n",
    "# importlib.reload(tester)\n",
    "from trainer import Trainer\n",
    "from tester import Tester"
   ]
  },
  {
   "cell_type": "code",
   "execution_count": null,
   "metadata": {
    "id": "FBTyTILZO-Vh"
   },
   "outputs": [],
   "source": [
    "# Training(Transfer Learning) session. For inference, you can skip this block\n",
    "trainer = Trainer(epoch=200, dataset_path='./drive/My Drive/datasets/car classification/train_data', \n",
    "                    val_path='./drive/My Drive/datasets/car classification/val_data', \n",
    "                    val_crop='five',\n",
    "                    batch_size=4, \n",
    "                    model_name='tf_efficientnet_b6_ns', \n",
    "                    lr=0.0002, \n",
    "                    lr_min=0.0002, \n",
    "                    weight_decay=1.5e-4, \n",
    "                    momentum=0.9, \n",
    "                    log_step=200, \n",
    "                    save_step=1,\n",
    "                    log_path='./drive/My Drive/cars_log.txt', \n",
    "                    cutout=True, \n",
    "                    style_aug=False,\n",
    "                    resume=False,\n",
    "                    resume_path='./drive/My Drive/ckpt/60.pth')\n",
    "trainer.train()"
   ]
  },
  {
   "cell_type": "code",
   "execution_count": null,
   "metadata": {
    "id": "gDhlA-esPCNi"
   },
   "outputs": [],
   "source": [
    "# FixEfficientNet Session. For inference, you can skip this block\n",
    "!python FixRes/main_finetune_custom.py --architecture 'EfficientNet' --job-id 0 \\\n",
    "--data-path './drive/My Drive/datasets/car classification/' --input-size 680 --epochs 80 --batch 4\\\n",
    "--workers 1 --num-tasks 1 --learning-rate 1e-4 --EfficientNet-models 'tf_efficientnet_b6_ns' \\\n",
    "--shared-folder-path '/content/drive/My Drive/ckpt' --ckpt-path 'drive/My Drive/ckpt/63.pth' --classes 196"
   ]
  },
  {
   "cell_type": "code",
   "execution_count": null,
   "metadata": {
    "id": "x2cyOC_tPEAS"
   },
   "outputs": [],
   "source": [
    "# Inference Session\n",
    "tester = Tester(epoch=1,\n",
    "        dataset_path='../drive/MyDrive/datasets/car classification/test_data', \n",
    "        val_path='../drive/MyDrive/datasets/car classification/val_data',\n",
    "        batch_size=4, \n",
    "        model_name='tf_efficientnet_b6_ns', \n",
    "        ckpt_path='../drive/MyDrive/ckpt/finetune/2/checkpoint_32.pth', \n",
    "        test_number=5000,\n",
    "        pseudo_test=True, \n",
    "        crop='multi', \n",
    "        csv_path='../drive/MyDrive/datasets/test.csv', \n",
    "        mode='fix', \n",
    "        sizes=(868, 768, 680, 600, 528))\n",
    "tester.test()"
   ]
  }
 ],
 "metadata": {
  "accelerator": "GPU",
  "colab": {
   "collapsed_sections": [],
   "name": "cars_classification_demo.ipynb",
   "provenance": []
  },
  "kernelspec": {
   "display_name": "Python 3",
   "language": "python",
   "name": "python3"
  },
  "language_info": {
   "codemirror_mode": {
    "name": "ipython",
    "version": 3
   },
   "file_extension": ".py",
   "mimetype": "text/x-python",
   "name": "python",
   "nbconvert_exporter": "python",
   "pygments_lexer": "ipython3",
   "version": "3.5.5"
  }
 },
 "nbformat": 4,
 "nbformat_minor": 1
}
