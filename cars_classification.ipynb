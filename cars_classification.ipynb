{
 "cells": [
  {
   "cell_type": "code",
   "execution_count": null,
   "metadata": {
    "colab": {
     "base_uri": "https://localhost:8080/"
    },
    "executionInfo": {
     "elapsed": 28824,
     "status": "ok",
     "timestamp": 1605172165795,
     "user": {
      "displayName": "Jinchen Zhang",
      "photoUrl": "",
      "userId": "06861043717806205709"
     },
     "user_tz": -480
    },
    "id": "HtqPQ8iWEQ8Y",
    "outputId": "63157c39-06fd-4197-ecee-43c86fd9f771"
   },
   "outputs": [],
   "source": [
    "# Mount Google drive on Colab\n",
    "from google.colab import drive\n",
    "drive.mount('/content/drive')"
   ]
  },
  {
   "cell_type": "code",
   "execution_count": null,
   "metadata": {
    "colab": {
     "base_uri": "https://localhost:8080/"
    },
    "executionInfo": {
     "elapsed": 4337,
     "status": "ok",
     "timestamp": 1605172488713,
     "user": {
      "displayName": "Jinchen Zhang",
      "photoUrl": "",
      "userId": "06861043717806205709"
     },
     "user_tz": -480
    },
    "id": "xFtcBd9mVqsu",
    "outputId": "f77b32ff-3651-4a66-fab3-9843c54273c2"
   },
   "outputs": [],
   "source": [
    "pip install timm"
   ]
  },
  {
   "cell_type": "code",
   "execution_count": null,
   "metadata": {
    "colab": {
     "base_uri": "https://localhost:8080/"
    },
    "executionInfo": {
     "elapsed": 6789,
     "status": "ok",
     "timestamp": 1604560968872,
     "user": {
      "displayName": "Jinchen Zhang",
      "photoUrl": "",
      "userId": "06861043717806205709"
     },
     "user_tz": -480
    },
    "id": "YgN4v0_K6qZb",
    "outputId": "a6a21f0a-e23a-41d4-8d86-90f3a3a45fee"
   },
   "outputs": [],
   "source": [
    "!git clone https://github.com/philipjackson/style-augmentation.git"
   ]
  },
  {
   "cell_type": "code",
   "execution_count": null,
   "metadata": {
    "colab": {
     "base_uri": "https://localhost:8080/"
    },
    "executionInfo": {
     "elapsed": 1362,
     "status": "ok",
     "timestamp": 1604560991854,
     "user": {
      "displayName": "Jinchen Zhang",
      "photoUrl": "",
      "userId": "06861043717806205709"
     },
     "user_tz": -480
    },
    "id": "MfqgOCS20cMK",
    "outputId": "0deb4b1f-d585-42ba-9a15-623c14f5ad95"
   },
   "outputs": [],
   "source": [
    "!python style-augmentation/setup.py install"
   ]
  },
  {
   "cell_type": "code",
   "execution_count": null,
   "metadata": {
    "colab": {
     "base_uri": "https://localhost:8080/"
    },
    "executionInfo": {
     "elapsed": 2468,
     "status": "ok",
     "timestamp": 1605099823982,
     "user": {
      "displayName": "Jinchen Zhang",
      "photoUrl": "",
      "userId": "06861043717806205709"
     },
     "user_tz": -480
    },
    "id": "yHS8rosUJ_LR",
    "outputId": "61a928e0-a338-4151-cac0-26cee84335de"
   },
   "outputs": [],
   "source": [
    "!git clone https://github.com/jinczing/FixRes.git"
   ]
  },
  {
   "cell_type": "code",
   "execution_count": null,
   "metadata": {
    "executionInfo": {
     "elapsed": 1108,
     "status": "ok",
     "timestamp": 1605184058698,
     "user": {
      "displayName": "Jinchen Zhang",
      "photoUrl": "",
      "userId": "06861043717806205709"
     },
     "user_tz": -480
    },
    "id": "t9sb4mIhljpY"
   },
   "outputs": [],
   "source": [
    "import torch\n",
    "import numpy as np\n",
    "import tqdm\n",
    "import csv\n",
    "import os\n",
    "from timm.models import create_model\n",
    "import torch.autograd.profiler as profiler\n",
    "from torch.utils.data import Dataset, DataLoader\n",
    "from torchvision.datasets import ImageFolder\n",
    "from torchvision.transforms import transforms\n",
    "from style_augmentation.styleaug import StyleAugmentor\n",
    "from trainer import Trainer\n",
    "from tester import Tester"
   ]
  },
  {
   "cell_type": "code",
   "execution_count": null,
   "metadata": {
    "colab": {
     "base_uri": "https://localhost:8080/",
     "height": 1000
    },
    "executionInfo": {
     "elapsed": 32351026,
     "status": "error",
     "timestamp": 1605070251341,
     "user": {
      "displayName": "Jinchen Zhang",
      "photoUrl": "",
      "userId": "06861043717806205709"
     },
     "user_tz": -480
    },
    "id": "YSNE7IlGML_2",
    "outputId": "70aa5bbf-b2eb-439d-8f2e-2e10cbe1c5cd",
    "scrolled": true
   },
   "outputs": [],
   "source": [
    "# Training(Transfer Learning) session. For inference, you can skip this block\n",
    "trainer = Trainer(epoch=200, dataset_path='./drive/My Drive/datasets/car classification/train_data', \n",
    "                    val_path='./drive/My Drive/datasets/car classification/val_data', \n",
    "                    val_crop='five',\n",
    "                    batch_size=4, \n",
    "                    model_name='tf_efficientnet_b6_ns', \n",
    "                    lr=0.0002, \n",
    "                    lr_min=0.0002, \n",
    "                    weight_decay=1.5e-4, \n",
    "                    momentum=0.9, \n",
    "                    log_step=200, \n",
    "                    save_step=1,\n",
    "                    log_path='./drive/My Drive/cars_log.txt', \n",
    "                    cutout=True, \n",
    "                    style_aug=False,\n",
    "                    resume=False,\n",
    "                    resume_path='./drive/My Drive/ckpt/60.pth')\n",
    "trainer.train()"
   ]
  },
  {
   "cell_type": "code",
   "execution_count": null,
   "metadata": {
    "colab": {
     "base_uri": "https://localhost:8080/"
    },
    "executionInfo": {
     "elapsed": 64715721,
     "status": "ok",
     "timestamp": 1605164737629,
     "user": {
      "displayName": "Jinchen Zhang",
      "photoUrl": "",
      "userId": "06861043717806205709"
     },
     "user_tz": -480
    },
    "id": "8qZxOGxAErWL",
    "outputId": "ed75f443-929a-4004-e961-47ab81a3663a",
    "scrolled": false
   },
   "outputs": [],
   "source": [
    "# FixEfficientNet Session. For inference, you can skip this block\n",
    "!python FixRes/main_finetune_custom.py --architecture 'EfficientNet' --job-id 0 \\\n",
    "--data-path './drive/My Drive/datasets/car classification/' --input-size 680 --epochs 80 --batch 4\\\n",
    "--workers 1 --num-tasks 1 --learning-rate 1e-4 --EfficientNet-models 'tf_efficientnet_b6_ns' \\\n",
    "--shared-folder-path '/content/drive/My Drive/ckpt' --ckpt-path 'drive/My Drive/ckpt/63.pth' --classes 196"
   ]
  },
  {
   "cell_type": "code",
   "execution_count": null,
   "metadata": {
    "colab": {
     "base_uri": "https://localhost:8080/"
    },
    "executionInfo": {
     "elapsed": 4951792,
     "status": "ok",
     "timestamp": 1605190589333,
     "user": {
      "displayName": "Jinchen Zhang",
      "photoUrl": "",
      "userId": "06861043717806205709"
     },
     "user_tz": -480
    },
    "id": "DJeMBVKOLBr6",
    "outputId": "b0e66df9-5ff3-438f-a59e-ddecdb239751"
   },
   "outputs": [],
   "source": [
    "# Inference Session\n",
    "tester = Tester(epoch=1,\n",
    "                dataset_path='./drive/My Drive/datasets/car classification/test_data', \n",
    "                batch_size=4, \n",
    "                model_name='tf_efficientnet_b6_ns', \n",
    "                ckpt_path='./drive/My Drive/ckpt/finetune/2/checkpoint_32.pth', \n",
    "                test_number=5000,\n",
    "                pseudo_test=True, \n",
    "                crop='multi', \n",
    "                csv_path='./drive/My Drive/datasets/test.csv', \n",
    "                mode='fix', \n",
    "                sizes=(868, 768, 680, 600, 528))\n",
    "tester.test()"
   ]
  }
 ],
 "metadata": {
  "accelerator": "GPU",
  "colab": {
   "collapsed_sections": [],
   "machine_shape": "hm",
   "name": "cars_classification.ipynb",
   "provenance": []
  },
  "kernelspec": {
   "display_name": "Python 3",
   "language": "python",
   "name": "python3"
  },
  "language_info": {
   "codemirror_mode": {
    "name": "ipython",
    "version": 3
   },
   "file_extension": ".py",
   "mimetype": "text/x-python",
   "name": "python",
   "nbconvert_exporter": "python",
   "pygments_lexer": "ipython3",
   "version": "3.5.5"
  }
 },
 "nbformat": 4,
 "nbformat_minor": 1
}
